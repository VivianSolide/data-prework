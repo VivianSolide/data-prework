{
 "cells": [
  {
   "cell_type": "markdown",
   "metadata": {},
   "source": [
    "<img src=\"https://bit.ly/2VnXWr2\" width=\"100\" align=\"left\"/>"
   ]
  },
  {
   "cell_type": "markdown",
   "metadata": {},
   "source": [
    "# Robin Hood\n",
    "Robin Hood has entered a competition to win the archery contest in Sherwood. With his bow and arrows, he needs to shoot on a target and try to hit as close as possible to the center.\n",
    "\n",
    "![](images/arrows.jpg)\n",
    "\n",
    "## Context\n",
    "In this challenge, the landing position of arrows shot by archers in the competition will be represented using 2-dimensional coordinates. \n",
    "\n",
    "In the 2-dimensional space, a point can be defined by a pair of values that correspond to the horizontal coordinate (x) and the vertical coordinate (y). For example, in our case, an arrow that hits the center of the archery target will land in position (0, 0) on the coordinate axes. \n",
    "\n",
    "The space can be divided into 4 zones (quadrants): Q1, Q2, Q3, Q4. If a point is in Q1, both its x coordinate and y coordinate are positive. Any point with a null x or y coordinate is considered to not belong to any quadrant. \n",
    "\n",
    "If you want to know more about the cartesian coordinate system, you can check this [link](https://en.wikipedia.org/wiki/Cartesian_coordinate_system). \n",
    "\n",
    "## Tools\n",
    "You don't necessarily need to use all the tools. Maybe you opt to use some of them or completely different ones, they are given to help you shape the exercise. Programming exercises can be solved in many different ways.\n",
    "* Data structures: **lists, sets, tuples**\n",
    "* Conditional statements: **if-elif-else**\n",
    "* Loop: **while/for**\n",
    "* Minimum (optional sorting)\n",
    "\n",
    "## Tasks\n",
    "Robin Hood has hit the following points:"
   ]
  },
  {
   "cell_type": "code",
   "execution_count": null,
   "metadata": {},
   "outputs": [],
   "source": [
    "points = [(4, 5), (-0, 2), (4, 7), (1, -3), (3, -2), (4, 5), (3, 2), (5, 7), (-5, 7), (2, 2), (-4, 5), (0, -2),\n",
    "          (-4, 7), (-1, 3), (-3, 2), (-4, -5), (-3, 2), (5, 7), (5, 7), (2, 2), (9, 9), (-8, -9)]"
   ]
  },
  {
   "cell_type": "markdown",
   "metadata": {},
   "source": [
    "#### 1. Robin Hood is famous for hitting an arrow with another arrow. Find the coordinates of the points where an arrow hits another arrow."
   ]
  },
  {
   "cell_type": "code",
   "execution_count": 42,
   "metadata": {
    "tags": []
   },
   "outputs": [
    {
     "output_type": "stream",
     "name": "stdout",
     "text": "The following coordinates have been hitted more than 1 time : [(5, 7), (4, 5), (2, 2), (-3, 2)]\n"
    }
   ],
   "source": [
    "points = [(4, 5), (-0, 2), (4, 7), (1, -3), (3, -2), (4, 5), (3, 2), (5, 7), (-5, 7), (2, 2), (-4, 5), (0, -2),\n",
    "          (-4, 7), (-1, 3), (-3, 2), (-4, -5), (-3, 2), (5, 7), (5, 7), (2, 2), (9, 9), (-8, -9)]\n",
    "\n",
    "arrow_in_arrow = []\n",
    "\n",
    "unique_hits = list(set(points))\n",
    "\n",
    "for hit in unique_hits:\n",
    "    acc = 0\n",
    "    for check in points:\n",
    "        if hit == check:\n",
    "            acc += 1\n",
    "    if acc > 1:\n",
    "        arrow_in_arrow.append(hit)\n",
    "\n",
    "print(\"The following coordinates have been hitted more than 1 time :\", arrow_in_arrow)"
   ]
  },
  {
   "cell_type": "markdown",
   "metadata": {},
   "source": [
    "#### 2. Calculate how many arrows have fallen in each quadrant. \n",
    "**Note**: the arrows that fall in the axis (x=0 or y=0) don't belong to any quadrant."
   ]
  },
  {
   "cell_type": "code",
   "execution_count": 16,
   "metadata": {
    "tags": []
   },
   "outputs": [
    {
     "output_type": "stream",
     "name": "stdout",
     "text": "[{'coords': (4, 5), 'quadrant': 'Q1'}, {'coords': (0, 2), 'quadrant': 'no quadrant'}, {'coords': (4, 7), 'quadrant': 'Q1'}, {'coords': (1, -3), 'quadrant': 'Q2'}, {'coords': (3, -2), 'quadrant': 'Q2'}, {'coords': (4, 5), 'quadrant': 'Q1'}, {'coords': (3, 2), 'quadrant': 'Q1'}, {'coords': (5, 7), 'quadrant': 'Q1'}, {'coords': (-5, 7), 'quadrant': 'Q4'}, {'coords': (2, 2), 'quadrant': 'Q1'}, {'coords': (-4, 5), 'quadrant': 'Q4'}, {'coords': (0, -2), 'quadrant': 'no quadrant'}, {'coords': (-4, 7), 'quadrant': 'Q4'}, {'coords': (-1, 3), 'quadrant': 'Q4'}, {'coords': (-3, 2), 'quadrant': 'Q4'}, {'coords': (-4, -5), 'quadrant': 'Q3'}, {'coords': (-3, 2), 'quadrant': 'Q4'}, {'coords': (5, 7), 'quadrant': 'Q1'}, {'coords': (5, 7), 'quadrant': 'Q1'}, {'coords': (2, 2), 'quadrant': 'Q1'}, {'coords': (9, 9), 'quadrant': 'Q1'}, {'coords': (-8, -9), 'quadrant': 'Q3'}]\n"
    }
   ],
   "source": [
    "points = [(4, 5), (-0, 2), (4, 7), (1, -3), (3, -2), (4, 5), (3, 2), (5, 7), (-5, 7), (2, 2), (-4, 5), (0, -2),\n",
    "          (-4, 7), (-1, 3), (-3, 2), (-4, -5), (-3, 2), (5, 7), (5, 7), (2, 2), (9, 9), (-8, -9)]\n",
    "\n",
    "quadrants = []\n",
    "\n",
    "for coords in points:\n",
    "    if coords[0] == 0 or coords[0] == -0:\n",
    "        quadrants.append({\n",
    "            \"coords\": coords,\n",
    "            \"quadrant\": \"no quadrant\"\n",
    "        })\n",
    "    elif coords[0] > 0 and coords[1] > 0:\n",
    "        quadrants.append({\n",
    "            \"coords\": coords,\n",
    "            \"quadrant\": \"Q1\"\n",
    "        })\n",
    "    elif coords[0] > 0 and coords[1] < 0:\n",
    "        quadrants.append({\n",
    "            \"coords\": coords,\n",
    "            \"quadrant\": \"Q2\"\n",
    "        })\n",
    "    elif coords[0] < 0 and coords[1] < 0:\n",
    "        quadrants.append({\n",
    "            \"coords\": coords,\n",
    "            \"quadrant\": \"Q3\"\n",
    "        })\n",
    "    else:\n",
    "        quadrants.append({\n",
    "            \"coords\": coords,\n",
    "            \"quadrant\": \"Q4\"\n",
    "        })\n",
    "\n",
    "\n",
    "print(quadrants)"
   ]
  },
  {
   "cell_type": "markdown",
   "metadata": {},
   "source": [
    "#### 3. Find the point closest to the center. Calculate its distance to the center. \n",
    "Take into account that there might be more than one point at the minimum distance to the center.\n",
    "\n",
    "**Hint**: Use the Euclidean distance. You can find more information about it [here](https://en.wikipedia.org/wiki/Euclidean_distance).  \n",
    "**Hint**: Defining a function that calculates the distance to the center can help."
   ]
  },
  {
   "cell_type": "code",
   "execution_count": 49,
   "metadata": {
    "tags": []
   },
   "outputs": [
    {
     "output_type": "stream",
     "name": "stdout",
     "text": "The closest hit is : (0, 2)\n"
    }
   ],
   "source": [
    "import numpy as np\n",
    "points = [(4, 5), (-0, 2), (4, 7), (1, -3), (3, -2), (4, 5), (3, 2), (5, 7), (-5, 7), (2, 2), (-4, 5), (0, -2),\n",
    "          (-4, 7), (-1, 3), (-3, 2), (-4, -5), (-3, 2), (5, 7), (5, 7), (2, 2), (9, 9), (-8, -9)]\n",
    "\n",
    "distance = 100\n",
    "res = \"\"\n",
    "\n",
    "for hit in points:\n",
    "    temp = np.linalg.norm(hit) \n",
    "    if temp < distance:\n",
    "        res = hit\n",
    "        distance = temp\n",
    "\n",
    "print(\"The closest hit is :\",res)"
   ]
  },
  {
   "cell_type": "markdown",
   "metadata": {},
   "source": [
    "#### 4. If the archery target has a radius of 9, calculate the number of arrows that won't hit the target. \n",
    "**Hint**: Use the function created in step 3. "
   ]
  },
  {
   "cell_type": "code",
   "execution_count": 54,
   "metadata": {
    "tags": []
   },
   "outputs": [
    {
     "output_type": "stream",
     "name": "stdout",
     "text": "There is  2 arrows out of the scope!\n"
    }
   ],
   "source": [
    "import numpy as np\n",
    "points = [(4, 5), (-0, 2), (4, 7), (1, -3), (3, -2), (4, 5), (3, 2), (5, 7), (-5, 7), (2, 2), (-4, 5), (0, -2),\n",
    "          (-4, 7), (-1, 3), (-3, 2), (-4, -5), (-3, 2), (5, 7), (5, 7), (2, 2), (9, 9), (-8, -9)]\n",
    "\n",
    "distance = 100\n",
    "res = 0\n",
    "\n",
    "for hit in points:\n",
    "    temp = np.linalg.norm(hit) \n",
    "    if temp > 9:\n",
    "        res += 1\n",
    "\n",
    "print(\"There is \",res, \"arrows out of the scope!\")"
   ]
  }
 ],
 "metadata": {
  "kernelspec": {
   "display_name": "Python 3",
   "language": "python",
   "name": "python3"
  },
  "language_info": {
   "codemirror_mode": {
    "name": "ipython",
    "version": 3
   },
   "file_extension": ".py",
   "mimetype": "text/x-python",
   "name": "python",
   "nbconvert_exporter": "python",
   "pygments_lexer": "ipython3",
   "version": "3.8.2-final"
  }
 },
 "nbformat": 4,
 "nbformat_minor": 2
}